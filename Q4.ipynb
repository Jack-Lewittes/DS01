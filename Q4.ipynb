{
 "cells": [
  {
   "cell_type": "code",
   "execution_count": 45,
   "metadata": {},
   "outputs": [],
   "source": [
    "import numpy as np"
   ]
  },
  {
   "cell_type": "code",
   "execution_count": 46,
   "metadata": {},
   "outputs": [],
   "source": [
    "## part c"
   ]
  },
  {
   "cell_type": "code",
   "execution_count": 47,
   "metadata": {},
   "outputs": [],
   "source": [
    "A = np.asarray([[5,6,7,8],\n",
    "                [1,3,5,4],\n",
    "                [1,.5,4,2],\n",
    "                [3,4,3,1]])"
   ]
  },
  {
   "cell_type": "code",
   "execution_count": 48,
   "metadata": {},
   "outputs": [],
   "source": [
    "B = np.asarray([[.57,.56,.8,1],\n",
    "                [1.5,4,6.7,4.9],\n",
    "                [.2,.1,1,.6],\n",
    "                [11,30,26,10]])\n"
   ]
  },
  {
   "cell_type": "code",
   "execution_count": 49,
   "metadata": {},
   "outputs": [],
   "source": [
    "D = np.eye(4)"
   ]
  },
  {
   "cell_type": "code",
   "execution_count": 50,
   "metadata": {},
   "outputs": [
    {
     "data": {
      "text/plain": [
       "4"
      ]
     },
     "execution_count": 50,
     "metadata": {},
     "output_type": "execute_result"
    }
   ],
   "source": [
    "D[0].size"
   ]
  },
  {
   "cell_type": "markdown",
   "metadata": {},
   "source": [
    "To find the values on the diagnol of D, we will minimize ||row_i(A)*Dii - row_i(B)||2\n",
    "for each row in A."
   ]
  },
  {
   "cell_type": "code",
   "execution_count": 51,
   "metadata": {},
   "outputs": [],
   "source": [
    "for i in range(D[0].size):\n",
    "    a = A[i]\n",
    "    aT = a.transpose()\n",
    "    b = B[i]\n",
    "    i_lambda = (1/(aT@a))*(aT @ b) #minimalization of norm 2.\n",
    "    D[i][i]=i_lambda\n"
   ]
  },
  {
   "cell_type": "code",
   "execution_count": 52,
   "metadata": {},
   "outputs": [
    {
     "data": {
      "text/plain": [
       "array([[0.11385057, 0.        , 0.        , 0.        ],\n",
       "       [0.        , 1.30588235, 0.        , 0.        ],\n",
       "       [0.        , 0.        , 0.25647059, 0.        ],\n",
       "       [0.        , 0.        , 0.        , 6.88571429]])"
      ]
     },
     "execution_count": 52,
     "metadata": {},
     "output_type": "execute_result"
    }
   ],
   "source": [
    "D"
   ]
  },
  {
   "cell_type": "code",
   "execution_count": 53,
   "metadata": {},
   "outputs": [
    {
     "data": {
      "text/plain": [
       "array([[-7.47126437e-04,  1.23103448e-01, -3.04597701e-03,\n",
       "        -8.91954023e-02],\n",
       "       [-1.94117647e-01, -8.23529412e-02, -1.70588235e-01,\n",
       "         3.23529412e-01],\n",
       "       [ 5.64705882e-02,  2.82352941e-02,  2.58823529e-02,\n",
       "        -8.70588235e-02],\n",
       "       [ 9.65714286e+00, -2.45714286e+00, -5.34285714e+00,\n",
       "        -3.11428571e+00]])"
      ]
     },
     "execution_count": 53,
     "metadata": {},
     "output_type": "execute_result"
    }
   ],
   "source": [
    "D@A - B"
   ]
  },
  {
   "cell_type": "code",
   "execution_count": null,
   "metadata": {},
   "outputs": [],
   "source": []
  }
 ],
 "metadata": {
  "kernelspec": {
   "display_name": "Python 3",
   "language": "python",
   "name": "python3"
  },
  "language_info": {
   "codemirror_mode": {
    "name": "ipython",
    "version": 3
   },
   "file_extension": ".py",
   "mimetype": "text/x-python",
   "name": "python",
   "nbconvert_exporter": "python",
   "pygments_lexer": "ipython3",
   "version": "3.8.3"
  }
 },
 "nbformat": 4,
 "nbformat_minor": 4
}
