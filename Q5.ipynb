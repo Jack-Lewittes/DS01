{
 "cells": [
  {
   "cell_type": "code",
   "execution_count": 161,
   "metadata": {},
   "outputs": [],
   "source": [
    "import numpy as np\n",
    "import pandas as pd\n",
    "import matplotlib.pyplot as plt\n",
    "import seaborn as sns\n",
    "%matplotlib inline"
   ]
  },
  {
   "cell_type": "code",
   "execution_count": 162,
   "metadata": {},
   "outputs": [],
   "source": [
    "df = pd.read_csv('data.csv')"
   ]
  },
  {
   "cell_type": "code",
   "execution_count": null,
   "metadata": {},
   "outputs": [],
   "source": []
  },
  {
   "cell_type": "code",
   "execution_count": 163,
   "metadata": {},
   "outputs": [],
   "source": [
    "df = df[(df['iso_code']=='FRA') | (df['iso_code']=='GBR') | (df['iso_code']=='ITA')|\n",
    "        (df['iso_code']=='CHE') | (df['iso_code']=='DEU') | (df['iso_code']=='PRT') ]"
   ]
  },
  {
   "cell_type": "code",
   "execution_count": 164,
   "metadata": {},
   "outputs": [],
   "source": [
    "df = df[(df['date'] >= '2020-03-15') & (df['date'] <= '2020-11-09')]"
   ]
  },
  {
   "cell_type": "code",
   "execution_count": 165,
   "metadata": {},
   "outputs": [
    {
     "data": {
      "text/html": [
       "<div>\n",
       "<style scoped>\n",
       "    .dataframe tbody tr th:only-of-type {\n",
       "        vertical-align: middle;\n",
       "    }\n",
       "\n",
       "    .dataframe tbody tr th {\n",
       "        vertical-align: top;\n",
       "    }\n",
       "\n",
       "    .dataframe thead th {\n",
       "        text-align: right;\n",
       "    }\n",
       "</style>\n",
       "<table border=\"1\" class=\"dataframe\">\n",
       "  <thead>\n",
       "    <tr style=\"text-align: right;\">\n",
       "      <th></th>\n",
       "      <th>iso_code</th>\n",
       "      <th>continent</th>\n",
       "      <th>location</th>\n",
       "      <th>date</th>\n",
       "      <th>total_cases</th>\n",
       "      <th>new_cases</th>\n",
       "      <th>new_cases_smoothed</th>\n",
       "      <th>total_deaths</th>\n",
       "      <th>new_deaths</th>\n",
       "      <th>new_deaths_smoothed</th>\n",
       "      <th>...</th>\n",
       "      <th>gdp_per_capita</th>\n",
       "      <th>extreme_poverty</th>\n",
       "      <th>cardiovasc_death_rate</th>\n",
       "      <th>diabetes_prevalence</th>\n",
       "      <th>female_smokers</th>\n",
       "      <th>male_smokers</th>\n",
       "      <th>handwashing_facilities</th>\n",
       "      <th>hospital_beds_per_thousand</th>\n",
       "      <th>life_expectancy</th>\n",
       "      <th>human_development_index</th>\n",
       "    </tr>\n",
       "  </thead>\n",
       "  <tbody>\n",
       "    <tr>\n",
       "      <th>17891</th>\n",
       "      <td>FRA</td>\n",
       "      <td>Europe</td>\n",
       "      <td>France</td>\n",
       "      <td>2020-03-15</td>\n",
       "      <td>4499.0</td>\n",
       "      <td>838.0</td>\n",
       "      <td>540.429</td>\n",
       "      <td>91.0</td>\n",
       "      <td>12.0</td>\n",
       "      <td>11.571</td>\n",
       "      <td>...</td>\n",
       "      <td>38605.671</td>\n",
       "      <td>NaN</td>\n",
       "      <td>86.06</td>\n",
       "      <td>4.77</td>\n",
       "      <td>30.1</td>\n",
       "      <td>35.6</td>\n",
       "      <td>NaN</td>\n",
       "      <td>5.98</td>\n",
       "      <td>82.66</td>\n",
       "      <td>0.901</td>\n",
       "    </tr>\n",
       "    <tr>\n",
       "      <th>17892</th>\n",
       "      <td>FRA</td>\n",
       "      <td>Europe</td>\n",
       "      <td>France</td>\n",
       "      <td>2020-03-16</td>\n",
       "      <td>5423.0</td>\n",
       "      <td>924.0</td>\n",
       "      <td>613.857</td>\n",
       "      <td>127.0</td>\n",
       "      <td>36.0</td>\n",
       "      <td>15.429</td>\n",
       "      <td>...</td>\n",
       "      <td>38605.671</td>\n",
       "      <td>NaN</td>\n",
       "      <td>86.06</td>\n",
       "      <td>4.77</td>\n",
       "      <td>30.1</td>\n",
       "      <td>35.6</td>\n",
       "      <td>NaN</td>\n",
       "      <td>5.98</td>\n",
       "      <td>82.66</td>\n",
       "      <td>0.901</td>\n",
       "    </tr>\n",
       "    <tr>\n",
       "      <th>17893</th>\n",
       "      <td>FRA</td>\n",
       "      <td>Europe</td>\n",
       "      <td>France</td>\n",
       "      <td>2020-03-17</td>\n",
       "      <td>6633.0</td>\n",
       "      <td>1210.0</td>\n",
       "      <td>745.857</td>\n",
       "      <td>148.0</td>\n",
       "      <td>21.0</td>\n",
       "      <td>16.857</td>\n",
       "      <td>...</td>\n",
       "      <td>38605.671</td>\n",
       "      <td>NaN</td>\n",
       "      <td>86.06</td>\n",
       "      <td>4.77</td>\n",
       "      <td>30.1</td>\n",
       "      <td>35.6</td>\n",
       "      <td>NaN</td>\n",
       "      <td>5.98</td>\n",
       "      <td>82.66</td>\n",
       "      <td>0.901</td>\n",
       "    </tr>\n",
       "    <tr>\n",
       "      <th>17894</th>\n",
       "      <td>FRA</td>\n",
       "      <td>Europe</td>\n",
       "      <td>France</td>\n",
       "      <td>2020-03-18</td>\n",
       "      <td>7730.0</td>\n",
       "      <td>1097.0</td>\n",
       "      <td>849.429</td>\n",
       "      <td>175.0</td>\n",
       "      <td>27.0</td>\n",
       "      <td>20.286</td>\n",
       "      <td>...</td>\n",
       "      <td>38605.671</td>\n",
       "      <td>NaN</td>\n",
       "      <td>86.06</td>\n",
       "      <td>4.77</td>\n",
       "      <td>30.1</td>\n",
       "      <td>35.6</td>\n",
       "      <td>NaN</td>\n",
       "      <td>5.98</td>\n",
       "      <td>82.66</td>\n",
       "      <td>0.901</td>\n",
       "    </tr>\n",
       "    <tr>\n",
       "      <th>17895</th>\n",
       "      <td>FRA</td>\n",
       "      <td>Europe</td>\n",
       "      <td>France</td>\n",
       "      <td>2020-03-19</td>\n",
       "      <td>9134.0</td>\n",
       "      <td>1404.0</td>\n",
       "      <td>979.000</td>\n",
       "      <td>244.0</td>\n",
       "      <td>69.0</td>\n",
       "      <td>28.000</td>\n",
       "      <td>...</td>\n",
       "      <td>38605.671</td>\n",
       "      <td>NaN</td>\n",
       "      <td>86.06</td>\n",
       "      <td>4.77</td>\n",
       "      <td>30.1</td>\n",
       "      <td>35.6</td>\n",
       "      <td>NaN</td>\n",
       "      <td>5.98</td>\n",
       "      <td>82.66</td>\n",
       "      <td>0.901</td>\n",
       "    </tr>\n",
       "  </tbody>\n",
       "</table>\n",
       "<p>5 rows × 49 columns</p>\n",
       "</div>"
      ],
      "text/plain": [
       "      iso_code continent location        date  total_cases  new_cases  \\\n",
       "17891      FRA    Europe   France  2020-03-15       4499.0      838.0   \n",
       "17892      FRA    Europe   France  2020-03-16       5423.0      924.0   \n",
       "17893      FRA    Europe   France  2020-03-17       6633.0     1210.0   \n",
       "17894      FRA    Europe   France  2020-03-18       7730.0     1097.0   \n",
       "17895      FRA    Europe   France  2020-03-19       9134.0     1404.0   \n",
       "\n",
       "       new_cases_smoothed  total_deaths  new_deaths  new_deaths_smoothed  ...  \\\n",
       "17891             540.429          91.0        12.0               11.571  ...   \n",
       "17892             613.857         127.0        36.0               15.429  ...   \n",
       "17893             745.857         148.0        21.0               16.857  ...   \n",
       "17894             849.429         175.0        27.0               20.286  ...   \n",
       "17895             979.000         244.0        69.0               28.000  ...   \n",
       "\n",
       "       gdp_per_capita  extreme_poverty  cardiovasc_death_rate  \\\n",
       "17891       38605.671              NaN                  86.06   \n",
       "17892       38605.671              NaN                  86.06   \n",
       "17893       38605.671              NaN                  86.06   \n",
       "17894       38605.671              NaN                  86.06   \n",
       "17895       38605.671              NaN                  86.06   \n",
       "\n",
       "       diabetes_prevalence  female_smokers  male_smokers  \\\n",
       "17891                 4.77            30.1          35.6   \n",
       "17892                 4.77            30.1          35.6   \n",
       "17893                 4.77            30.1          35.6   \n",
       "17894                 4.77            30.1          35.6   \n",
       "17895                 4.77            30.1          35.6   \n",
       "\n",
       "       handwashing_facilities  hospital_beds_per_thousand  life_expectancy  \\\n",
       "17891                     NaN                        5.98            82.66   \n",
       "17892                     NaN                        5.98            82.66   \n",
       "17893                     NaN                        5.98            82.66   \n",
       "17894                     NaN                        5.98            82.66   \n",
       "17895                     NaN                        5.98            82.66   \n",
       "\n",
       "       human_development_index  \n",
       "17891                    0.901  \n",
       "17892                    0.901  \n",
       "17893                    0.901  \n",
       "17894                    0.901  \n",
       "17895                    0.901  \n",
       "\n",
       "[5 rows x 49 columns]"
      ]
     },
     "execution_count": 165,
     "metadata": {},
     "output_type": "execute_result"
    }
   ],
   "source": [
    "df.head()"
   ]
  },
  {
   "cell_type": "code",
   "execution_count": 166,
   "metadata": {},
   "outputs": [],
   "source": [
    "dfSub = df[['location', 'date','new_cases','population', 'population_density']]"
   ]
  },
  {
   "cell_type": "code",
   "execution_count": 167,
   "metadata": {},
   "outputs": [],
   "source": [
    "#dfSub.to_csv(r'relevantData.csv', index = False)"
   ]
  },
  {
   "cell_type": "code",
   "execution_count": 168,
   "metadata": {},
   "outputs": [],
   "source": [
    "A = dfSub[dfSub['location']!='France']"
   ]
  },
  {
   "cell_type": "code",
   "execution_count": 169,
   "metadata": {},
   "outputs": [],
   "source": [
    "A = A[['location','new_cases','population']]"
   ]
  },
  {
   "cell_type": "code",
   "execution_count": null,
   "metadata": {},
   "outputs": [],
   "source": []
  },
  {
   "cell_type": "code",
   "execution_count": 170,
   "metadata": {},
   "outputs": [],
   "source": [
    "germ = A[A['location']=='Germany'].reset_index().drop('index',axis=1)\n",
    "ita = A[A['location']=='Italy'].reset_index().drop('index',axis=1)\n",
    "port = A[A['location']=='Portugal'].reset_index().drop('index',axis=1)\n",
    "swi = A[A['location']=='Switzerland'].reset_index().drop('index',axis=1)\n",
    "unk = A[A['location']=='United Kingdom'].reset_index().drop('index',axis=1)"
   ]
  },
  {
   "cell_type": "code",
   "execution_count": 171,
   "metadata": {},
   "outputs": [
    {
     "data": {
      "text/html": [
       "<div>\n",
       "<style scoped>\n",
       "    .dataframe tbody tr th:only-of-type {\n",
       "        vertical-align: middle;\n",
       "    }\n",
       "\n",
       "    .dataframe tbody tr th {\n",
       "        vertical-align: top;\n",
       "    }\n",
       "\n",
       "    .dataframe thead th {\n",
       "        text-align: right;\n",
       "    }\n",
       "</style>\n",
       "<table border=\"1\" class=\"dataframe\">\n",
       "  <thead>\n",
       "    <tr style=\"text-align: right;\">\n",
       "      <th></th>\n",
       "      <th>Italy</th>\n",
       "      <th>United Kingdom</th>\n",
       "      <th>Germany</th>\n",
       "    </tr>\n",
       "  </thead>\n",
       "  <tbody>\n",
       "    <tr>\n",
       "      <th>0</th>\n",
       "      <td>3497.0</td>\n",
       "      <td>478.0</td>\n",
       "      <td>733.0</td>\n",
       "    </tr>\n",
       "    <tr>\n",
       "      <th>1</th>\n",
       "      <td>2823.0</td>\n",
       "      <td>361.0</td>\n",
       "      <td>1043.0</td>\n",
       "    </tr>\n",
       "    <tr>\n",
       "      <th>2</th>\n",
       "      <td>4000.0</td>\n",
       "      <td>442.0</td>\n",
       "      <td>1174.0</td>\n",
       "    </tr>\n",
       "    <tr>\n",
       "      <th>3</th>\n",
       "      <td>3526.0</td>\n",
       "      <td>611.0</td>\n",
       "      <td>1144.0</td>\n",
       "    </tr>\n",
       "    <tr>\n",
       "      <th>4</th>\n",
       "      <td>4207.0</td>\n",
       "      <td>769.0</td>\n",
       "      <td>1042.0</td>\n",
       "    </tr>\n",
       "    <tr>\n",
       "      <th>...</th>\n",
       "      <td>...</td>\n",
       "      <td>...</td>\n",
       "      <td>...</td>\n",
       "    </tr>\n",
       "    <tr>\n",
       "      <th>235</th>\n",
       "      <td>30548.0</td>\n",
       "      <td>25177.0</td>\n",
       "      <td>19990.0</td>\n",
       "    </tr>\n",
       "    <tr>\n",
       "      <th>236</th>\n",
       "      <td>34502.0</td>\n",
       "      <td>24138.0</td>\n",
       "      <td>21506.0</td>\n",
       "    </tr>\n",
       "    <tr>\n",
       "      <th>237</th>\n",
       "      <td>37802.0</td>\n",
       "      <td>23287.0</td>\n",
       "      <td>23399.0</td>\n",
       "    </tr>\n",
       "    <tr>\n",
       "      <th>238</th>\n",
       "      <td>39809.0</td>\n",
       "      <td>24957.0</td>\n",
       "      <td>16017.0</td>\n",
       "    </tr>\n",
       "    <tr>\n",
       "      <th>239</th>\n",
       "      <td>32614.0</td>\n",
       "      <td>20572.0</td>\n",
       "      <td>13363.0</td>\n",
       "    </tr>\n",
       "  </tbody>\n",
       "</table>\n",
       "<p>240 rows × 3 columns</p>\n",
       "</div>"
      ],
      "text/plain": [
       "       Italy  United Kingdom  Germany\n",
       "0     3497.0           478.0    733.0\n",
       "1     2823.0           361.0   1043.0\n",
       "2     4000.0           442.0   1174.0\n",
       "3     3526.0           611.0   1144.0\n",
       "4     4207.0           769.0   1042.0\n",
       "..       ...             ...      ...\n",
       "235  30548.0         25177.0  19990.0\n",
       "236  34502.0         24138.0  21506.0\n",
       "237  37802.0         23287.0  23399.0\n",
       "238  39809.0         24957.0  16017.0\n",
       "239  32614.0         20572.0  13363.0\n",
       "\n",
       "[240 rows x 3 columns]"
      ]
     },
     "execution_count": 171,
     "metadata": {},
     "output_type": "execute_result"
    }
   ],
   "source": [
    "N = pd.DataFrame(columns=['Italy','United Kingdom'],index = range(0,240))\n",
    "N['United Kingdom'] = unk['new_cases']\n",
    "N['Italy']= ita['new_cases']\n",
    "#N['Portugal'] = port['new_cases']\n",
    "#N['Switzerland'] = swi['new_cases']\n",
    "N['Germany'] = germ['new_cases']\n",
    "\n",
    "N"
   ]
  },
  {
   "cell_type": "code",
   "execution_count": null,
   "metadata": {},
   "outputs": [],
   "source": []
  },
  {
   "cell_type": "code",
   "execution_count": 172,
   "metadata": {},
   "outputs": [
    {
     "data": {
      "text/plain": [
       "array([[ 3497.,   478.,   733.],\n",
       "       [ 2823.,   361.,  1043.],\n",
       "       [ 4000.,   442.,  1174.],\n",
       "       [ 3526.,   611.,  1144.],\n",
       "       [ 4207.,   769.,  1042.],\n",
       "       [ 5322.,   999.,  5940.],\n",
       "       [ 5986.,  1055.,  4049.],\n",
       "       [ 6557.,  1255.,  3276.],\n",
       "       [ 5560.,  1198.,  3311.],\n",
       "       [ 4789.,  1378.,  4438.],\n",
       "       [ 5249.,  2338.,  2342.],\n",
       "       [ 5210.,  2375.,  4954.],\n",
       "       [ 6153.,  2692.,  5780.],\n",
       "       [ 5959.,  3087.,  6294.],\n",
       "       [ 5974.,  3197.,  3965.],\n",
       "       [ 5217.,  2822.,  4751.],\n",
       "       [ 4050.,  2858.,  4615.],\n",
       "       [ 4053.,  4273.,  5453.],\n",
       "       [ 4782.,  4514.,  6156.],\n",
       "       [ 4668.,  4913.,  6174.],\n",
       "       [ 4585.,  4868.,  6082.],\n",
       "       [ 4805.,  4911.,  5936.],\n",
       "       [ 4316.,  4020.,  3677.],\n",
       "       [ 3599.,  3592.,  3834.],\n",
       "       [ 3039.,  5282.,  4003.],\n",
       "       [ 3836.,  5450.,  4974.],\n",
       "       [ 4204.,  5131.,  5323.],\n",
       "       [ 3951.,  4858.,  4133.],\n",
       "       [ 4694.,  4313.,  2821.],\n",
       "       [ 4092.,  3579.,  2537.],\n",
       "       [ 3153.,  3489.,  2082.],\n",
       "       [ 2972.,  4178.,  2486.],\n",
       "       [ 2667.,  4326.,  2866.],\n",
       "       [ 3786.,  5065.,  3380.],\n",
       "       [ 3493.,  5292.,  3609.],\n",
       "       [ 3491.,  4956.,  2458.],\n",
       "       [ 3047.,  4721.,  1775.],\n",
       "       [ 2256.,  3853.,  1785.],\n",
       "       [ 2729.,  4854.,  2237.],\n",
       "       [ 3370.,  4760.,  2352.],\n",
       "       [ 2646.,  5487.,  2337.],\n",
       "       [ 3021.,  5158.,  2055.],\n",
       "       [ 2357.,  4970.,  1737.],\n",
       "       [ 2324.,  3748.,  1018.],\n",
       "       [ 1739.,  3473.,  1144.],\n",
       "       [ 2091.,  4706.,  1304.],\n",
       "       [ 2086.,  4729.,  1478.],\n",
       "       [ 1872.,  5442.,  1639.],\n",
       "       [ 1965.,  4966.,   945.],\n",
       "       [ 1900.,  4737.,   793.],\n",
       "       [ 1389.,  3229.,   679.],\n",
       "       [ 1221.,  2982.,   685.],\n",
       "       [ 1075.,  3389.,   947.],\n",
       "       [ 1444.,  3682.,  1284.],\n",
       "       [ 1401.,  3827.,  1209.],\n",
       "       [ 1327.,  3767.,  1251.],\n",
       "       [ 1083.,  3063.,   667.],\n",
       "       [  802.,  2157.,   357.],\n",
       "       [  744.,  2329.,   933.],\n",
       "       [ 1402.,  3586.,   798.],\n",
       "       [  888.,  3402.,   933.],\n",
       "       [  992.,  3307.,   913.],\n",
       "       [  789.,  2628.,   620.],\n",
       "       [  875.,  2526.,   583.],\n",
       "       [  675.,  2079.,   342.],\n",
       "       [  451.,  1838.,   513.],\n",
       "       [  813.,  2589.,   797.],\n",
       "       [  665.,  3052.,   745.],\n",
       "       [  642.,  2718.,   460.],\n",
       "       [  652.,  2574.,   638.],\n",
       "       [  669.,  2062.,   431.],\n",
       "       [  531.,  1527.,   289.],\n",
       "       [  300.,  1364.,   432.],\n",
       "       [  397.,  1624.,   362.],\n",
       "       [  584.,  1672.,   353.],\n",
       "       [  593.,  1835.,   741.],\n",
       "       [  516.,  1760.,   738.],\n",
       "       [  416.,  1527.,   286.],\n",
       "       [  355.,  1125.,   333.],\n",
       "       [  178.,  1079.,   213.],\n",
       "       [  318.,  1441.,   342.],\n",
       "       [  321.,  1484.,   394.],\n",
       "       [  177.,  1356.,   507.],\n",
       "       [  518.,  1243.,   407.],\n",
       "       [  270.,  1120.,   301.],\n",
       "       [  197.,   801.,   214.],\n",
       "       [  280.,   721.,   350.],\n",
       "       [  283.,  1099.,   318.],\n",
       "       [  202.,  1158.,   555.],\n",
       "       [  379.,  1199.,   258.],\n",
       "       [  163.,  1017.,   348.],\n",
       "       [  346.,  1052.,   247.],\n",
       "       [  338.,   890.,   192.],\n",
       "       [  301.,   822.,   378.],\n",
       "       [  210.,  1043.,   345.],\n",
       "       [  328.,  1102.,   580.],\n",
       "       [  331.,  1013.,   770.],\n",
       "       [ -148.,  1027.,   601.],\n",
       "       [  264.,   986.,   687.],\n",
       "       [  224.,   687.,   537.],\n",
       "       [  221.,   639.,   503.],\n",
       "       [  113.,   896.,   587.],\n",
       "       [  577.,   886.,   630.],\n",
       "       [  296.,   778.,   477.],\n",
       "       [  255.,   721.,   687.],\n",
       "       [  175.,   671.,   256.],\n",
       "       [  174.,   649.,   262.],\n",
       "       [  126.,   446.,   498.],\n",
       "       [  142.,   730.,   466.],\n",
       "       [  182.,   617.,   503.],\n",
       "       [  201.,   651.,   446.],\n",
       "       [  223.,   602.,   422.],\n",
       "       [  235.,   579.,   239.],\n",
       "       [  192.,   401.,   219.],\n",
       "       [  208.,   555.,   390.],\n",
       "       [  137.,   704.,   397.],\n",
       "       [  193.,   597.,   442.],\n",
       "       [  214.,   693.,   395.],\n",
       "       [  276.,   715.,   378.],\n",
       "       [  188.,   565.,   248.],\n",
       "       [  234.,   442.,   159.],\n",
       "       [  169.,   361.,   412.],\n",
       "       [  114.,   726.,   351.],\n",
       "       [  162.,   685.,   534.],\n",
       "       [  230.,   772.,   583.],\n",
       "       [  231.,   704.,   529.],\n",
       "       [  249.,   569.,   202.],\n",
       "       [  218.,   493.,   249.],\n",
       "       [  190.,   413.,   522.],\n",
       "       [  128.,   793.,   454.],\n",
       "       [  280.,   751.,   569.],\n",
       "       [  306.,   773.,   815.],\n",
       "       [  252.,   731.,   781.],\n",
       "       [  274.,   667.,   305.],\n",
       "       [  254.,   421.,   340.],\n",
       "       [  168.,   371.,   633.],\n",
       "       [  202.,    70.,   684.],\n",
       "       [  288.,   763.,   902.],\n",
       "       [  382.,   846.,   870.],\n",
       "       [  379.,   880.,   955.],\n",
       "       [  295.,   771.,   240.],\n",
       "       [  238.,   743.,   509.],\n",
       "       [  159.,   928.,   879.],\n",
       "       [  190.,   670.,   741.],\n",
       "       [  384.,   891.,  1045.],\n",
       "       [  401.,   950.,  1147.],\n",
       "       [  552.,   871.,  1122.],\n",
       "       [  347.,   758.,   555.],\n",
       "       [  463.,  1062.,   436.],\n",
       "       [  259.,   816.,   966.],\n",
       "       [  412.,  1148.,  1226.],\n",
       "       [  476.,  1009.,  1445.],\n",
       "       [  522.,  1129.,  1449.],\n",
       "       [  574.,  1440.,  1415.],\n",
       "       [  629.,  1077.,   625.],\n",
       "       [  477.,  1040.,   561.],\n",
       "       [  320.,   713.,  1390.],\n",
       "       [  401.,  1089.,  1510.],\n",
       "       [  642.,   812.,  1707.],\n",
       "       [  840.,  1182.,  1427.],\n",
       "       [  947.,  1033.,  2034.],\n",
       "       [ 1071.,  1288.,   782.],\n",
       "       [ 1209.,  1041.,   711.],\n",
       "       [  953.,   972.,  1278.],\n",
       "       [  876.,  1184.,  1576.],\n",
       "       [ 1366.,  1048.,  1507.],\n",
       "       [ 1409.,  1522.,  1571.],\n",
       "       [ 1460.,  1276.,  1479.],\n",
       "       [ 1444.,  1108.,   785.],\n",
       "       [ 1365.,  1715.,   610.],\n",
       "       [  996.,  1406.,  1218.],\n",
       "       [  975.,  1295.,  1256.],\n",
       "       [ 1326.,  1508.,  1311.],\n",
       "       [ 1397.,  1735.,  1453.],\n",
       "       [ 1732.,  1940.,  1378.],\n",
       "       [ 1694.,  1813.,   988.],\n",
       "       [ 1296.,  2988.,   814.],\n",
       "       [ 1150.,  2948.,  1499.],\n",
       "       [ 1369.,  2460.,  1176.],\n",
       "       [ 1430.,  2659.,  1892.],\n",
       "       [ 1597.,  2919.,  1484.],\n",
       "       [ 1616.,  3539.,  1630.],\n",
       "       [ 1501.,  3497.,   948.],\n",
       "       [ 1456.,  3330.,   927.],\n",
       "       [ 1008.,  2621.,  1407.],\n",
       "       [ 1229.,  3103.,  1901.],\n",
       "       [ 1452.,  3991.,  2194.],\n",
       "       [ 1583.,  3395.,  1916.],\n",
       "       [ 1907.,  4322.,  2297.],\n",
       "       [ 1637.,  4422.,  1345.],\n",
       "       [ 1587.,  3899.,   922.],\n",
       "       [ 1350.,  4368.,  1821.],\n",
       "       [ 1391.,  4926.,  1769.],\n",
       "       [ 1640.,  6178.,  2143.],\n",
       "       [ 1786.,  6634.,  2153.],\n",
       "       [ 1912.,  6873.,  2507.],\n",
       "       [ 1869.,  6041.,  1410.],\n",
       "       [ 1766.,  5692.,  1192.],\n",
       "       [ 1494.,  4044.,  2089.],\n",
       "       [ 1647.,  7143.,  1798.],\n",
       "       [ 1850.,  7108.,  2503.],\n",
       "       [ 2548.,  6914.,  2673.],\n",
       "       [ 2499.,  6968.,  2563.],\n",
       "       [ 2843., 12871.,  2279.],\n",
       "       [ 2578., 22961.,  1382.],\n",
       "       [ 2257., 12593.,  2639.],\n",
       "       [ 2677., 14542.,  2828.],\n",
       "       [ 3677., 14162.,  4058.],\n",
       "       [ 4458., 17540.,  4516.],\n",
       "       [ 5372., 13864.,  4721.],\n",
       "       [ 5724., 15165.,  3483.],\n",
       "       [ 5456., 12872.,  2467.],\n",
       "       [ 4619., 13972.,  4122.],\n",
       "       [ 5898., 17232.,  5132.],\n",
       "       [ 7332., 19724.,  6638.],\n",
       "       [ 8803., 18978.,  7334.],\n",
       "       [10009., 15635.,  7830.],\n",
       "       [10925., 16171.,  5587.],\n",
       "       [11705., 16981.,  4325.],\n",
       "       [ 9337., 18803.,  6868.],\n",
       "       [10871., 21330.,  7595.],\n",
       "       [15199., 26687., 11287.],\n",
       "       [16078., 21238., 11242.],\n",
       "       [19143., 20531., 14714.],\n",
       "       [19640., 23012., 11176.],\n",
       "       [21273., 19790.,  8685.],\n",
       "       [17007., 20890., 11409.],\n",
       "       [21989., 22885., 14964.],\n",
       "       [24988., 24700., 16774.],\n",
       "       [26829., 23065., 18681.],\n",
       "       [31079., 24405., 19059.],\n",
       "       [31756., 21915., 14177.],\n",
       "       [29905., 23254., 12097.],\n",
       "       [22253., 18950., 15352.],\n",
       "       [28241., 20018., 17214.],\n",
       "       [30548., 25177., 19990.],\n",
       "       [34502., 24138., 21506.],\n",
       "       [37802., 23287., 23399.],\n",
       "       [39809., 24957., 16017.],\n",
       "       [32614., 20572., 13363.]])"
      ]
     },
     "execution_count": 172,
     "metadata": {},
     "output_type": "execute_result"
    }
   ],
   "source": [
    "A = N.to_numpy()\n",
    "A"
   ]
  },
  {
   "cell_type": "code",
   "execution_count": 173,
   "metadata": {},
   "outputs": [],
   "source": [
    "b = dfSub[dfSub['location']=='France']"
   ]
  },
  {
   "cell_type": "code",
   "execution_count": 174,
   "metadata": {},
   "outputs": [],
   "source": [
    "b = b[['new_cases']]"
   ]
  },
  {
   "cell_type": "code",
   "execution_count": 175,
   "metadata": {},
   "outputs": [
    {
     "data": {
      "text/plain": [
       "array([[8.3800e+02],\n",
       "       [9.2400e+02],\n",
       "       [1.2100e+03],\n",
       "       [1.0970e+03],\n",
       "       [1.4040e+03],\n",
       "       [1.8610e+03],\n",
       "       [1.6170e+03],\n",
       "       [1.8470e+03],\n",
       "       [1.5590e+03],\n",
       "       [3.8380e+03],\n",
       "       [2.4460e+03],\n",
       "       [2.9310e+03],\n",
       "       [3.9220e+03],\n",
       "       [3.8090e+03],\n",
       "       [4.6110e+03],\n",
       "       [2.5990e+03],\n",
       "       [4.3760e+03],\n",
       "       [7.5780e+03],\n",
       "       [4.8610e+03],\n",
       "       [2.1160e+03],\n",
       "       [5.2330e+03],\n",
       "       [4.2670e+03],\n",
       "       [1.8730e+03],\n",
       "       [3.9120e+03],\n",
       "       [3.7770e+03],\n",
       "       [3.8810e+03],\n",
       "       [4.2860e+03],\n",
       "       [4.3420e+03],\n",
       "       [3.1140e+03],\n",
       "       [1.6130e+03],\n",
       "       [2.6730e+03],\n",
       "       [5.4970e+03],\n",
       "       [2.6330e+03],\n",
       "       [2.6410e+03],\n",
       "       [4.0500e+02],\n",
       "       [2.5690e+03],\n",
       "       [7.8500e+02],\n",
       "       [2.0510e+03],\n",
       "       [2.6670e+03],\n",
       "       [1.8270e+03],\n",
       "       [1.6530e+03],\n",
       "       [1.7730e+03],\n",
       "       [1.5370e+03],\n",
       "       [4.6100e+02],\n",
       "       [1.1950e+03],\n",
       "       [1.0650e+03],\n",
       "       [1.6070e+03],\n",
       "       [1.1390e+03],\n",
       "       [6.0400e+02],\n",
       "       [7.9400e+02],\n",
       "       [3.0800e+02],\n",
       "       [5.7600e+02],\n",
       "       [1.1040e+03],\n",
       "       [4.1830e+03],\n",
       "       [6.2900e+02],\n",
       "       [6.4200e+02],\n",
       "       [4.3300e+02],\n",
       "       [2.0900e+02],\n",
       "       [4.5600e+02],\n",
       "       [7.0800e+02],\n",
       "       [5.0700e+02],\n",
       "       [6.2200e+02],\n",
       "       [5.6300e+02],\n",
       "       [3.7200e+02],\n",
       "       [1.2000e+02],\n",
       "       [4.9200e+02],\n",
       "       [5.2400e+02],\n",
       "       [4.1800e+02],\n",
       "       [3.1800e+02],\n",
       "       [4.0300e+02],\n",
       "       [2.4000e+02],\n",
       "       [1.1500e+02],\n",
       "       [3.5800e+02],\n",
       "       [2.7600e+02],\n",
       "       [1.9100e+02],\n",
       "       [3.3250e+03],\n",
       "       [5.9700e+02],\n",
       "       [1.8280e+03],\n",
       "       [2.5700e+02],\n",
       "       [3.3800e+02],\n",
       "       [7.6600e+02],\n",
       "       [3.5200e+02],\n",
       "       [7.6700e+02],\n",
       "       [6.1100e+02],\n",
       "       [5.7900e+02],\n",
       "       [3.4300e+02],\n",
       "       [2.1100e+02],\n",
       "       [4.0300e+02],\n",
       "       [5.4500e+02],\n",
       "       [4.2500e+02],\n",
       "       [7.2600e+02],\n",
       "       [5.2600e+02],\n",
       "       [4.0700e+02],\n",
       "       [1.5200e+02],\n",
       "       [3.4400e+02],\n",
       "       [4.5800e+02],\n",
       "       [4.6700e+02],\n",
       "       [8.1100e+02],\n",
       "       [6.4100e+02],\n",
       "       [2.8400e+02],\n",
       "       [3.7300e+02],\n",
       "       [5.1700e+02],\n",
       "       [8.1000e+01],\n",
       "       [8.1000e+01],\n",
       "       [1.5880e+03],\n",
       "       [1.5880e+03],\n",
       "       [1.5880e+03],\n",
       "       [1.3240e+03],\n",
       "       [5.4100e+02],\n",
       "       [9.1800e+02],\n",
       "       [6.5900e+02],\n",
       "       [5.8200e+02],\n",
       "       [5.8200e+02],\n",
       "       [5.8200e+02],\n",
       "       [1.3750e+03],\n",
       "       [4.7500e+02],\n",
       "       [6.6300e+02],\n",
       "       [6.2100e+02],\n",
       "       [6.5800e+02],\n",
       "       [6.5800e+02],\n",
       "       [6.5800e+02],\n",
       "       [1.6250e+03],\n",
       "       [1.6250e+03],\n",
       "       [9.2700e+02],\n",
       "       [5.3400e+02],\n",
       "       [8.3600e+02],\n",
       "       [8.3600e+02],\n",
       "       [8.3600e+02],\n",
       "       [2.0800e+03],\n",
       "       [5.8400e+02],\n",
       "       [9.9800e+02],\n",
       "       [1.0620e+03],\n",
       "       [1.1300e+03],\n",
       "       [1.1300e+03],\n",
       "       [1.1300e+03],\n",
       "       [2.5510e+03],\n",
       "       [7.2500e+02],\n",
       "       [1.3920e+03],\n",
       "       [1.3770e+03],\n",
       "       [1.3460e+03],\n",
       "       [1.3460e+03],\n",
       "       [1.3460e+03],\n",
       "       [3.3760e+03],\n",
       "       [1.0390e+03],\n",
       "       [1.6950e+03],\n",
       "       [1.6040e+03],\n",
       "       [2.2880e+03],\n",
       "       [2.2880e+03],\n",
       "       [2.2880e+03],\n",
       "       [4.8540e+03],\n",
       "       [1.3970e+03],\n",
       "       [2.5240e+03],\n",
       "       [2.6690e+03],\n",
       "       [2.8460e+03],\n",
       "       [3.3100e+03],\n",
       "       [3.0150e+03],\n",
       "       [4.9300e+02],\n",
       "       [2.2380e+03],\n",
       "       [3.7760e+03],\n",
       "       [4.7710e+03],\n",
       "       [4.5860e+03],\n",
       "       [3.6020e+03],\n",
       "       [4.8970e+03],\n",
       "       [1.9550e+03],\n",
       "       [3.3040e+03],\n",
       "       [5.4290e+03],\n",
       "       [6.1110e+03],\n",
       "       [7.3790e+03],\n",
       "       [5.4530e+03],\n",
       "       [5.4130e+03],\n",
       "       [3.0820e+03],\n",
       "       [4.9820e+03],\n",
       "       [7.0170e+03],\n",
       "       [7.1570e+03],\n",
       "       [8.9750e+03],\n",
       "       [8.5500e+03],\n",
       "       [7.0710e+03],\n",
       "       [4.2030e+03],\n",
       "       [6.5440e+03],\n",
       "       [8.5770e+03],\n",
       "       [9.8430e+03],\n",
       "       [9.4060e+03],\n",
       "       [1.0561e+04],\n",
       "       [7.1830e+03],\n",
       "       [6.1580e+03],\n",
       "       [7.8520e+03],\n",
       "       [9.7840e+03],\n",
       "       [1.0593e+04],\n",
       "       [1.3215e+04],\n",
       "       [1.3498e+04],\n",
       "       [1.1569e+04],\n",
       "       [4.2980e+03],\n",
       "       [1.0008e+04],\n",
       "       [1.3072e+04],\n",
       "       [1.6096e+04],\n",
       "       [1.5797e+04],\n",
       "       [1.4412e+04],\n",
       "       [1.1123e+04],\n",
       "       [4.0700e+03],\n",
       "       [8.0510e+03],\n",
       "       [1.2845e+04],\n",
       "       [1.3970e+04],\n",
       "       [1.2148e+04],\n",
       "       [1.6972e+04],\n",
       "       [1.2545e+04],\n",
       "       [5.1040e+03],\n",
       "       [1.0489e+04],\n",
       "       [1.8746e+04],\n",
       "       [1.8129e+04],\n",
       "       [2.0339e+04],\n",
       "       [2.6896e+04],\n",
       "       [1.6101e+04],\n",
       "       [8.5050e+03],\n",
       "       [1.2993e+04],\n",
       "       [2.2591e+04],\n",
       "       [3.0621e+04],\n",
       "       [2.5086e+04],\n",
       "       [3.2427e+04],\n",
       "       [2.9837e+04],\n",
       "       [1.3243e+04],\n",
       "       [2.0468e+04],\n",
       "       [2.6676e+04],\n",
       "       [4.1622e+04],\n",
       "       [4.2032e+04],\n",
       "       [4.5422e+04],\n",
       "       [5.2010e+04],\n",
       "       [2.6771e+04],\n",
       "       [3.3417e+04],\n",
       "       [3.6437e+04],\n",
       "       [4.7637e+04],\n",
       "       [4.9215e+04],\n",
       "       [3.2641e+04],\n",
       "       [4.9290e+04],\n",
       "       [5.2518e+04],\n",
       "       [3.6330e+04],\n",
       "       [4.0558e+04],\n",
       "       [5.8046e+04],\n",
       "       [6.0486e+04],\n",
       "       [8.6852e+04],\n",
       "       [3.8619e+04]])"
      ]
     },
     "execution_count": 175,
     "metadata": {},
     "output_type": "execute_result"
    }
   ],
   "source": [
    "b=b.to_numpy()\n",
    "for i in range(0,240):\n",
    "    if b[i] == 0:\n",
    "        b[i]= b[i-1]\n",
    "    elif b[i]<0:\n",
    "        b[i]= -b[i]\n",
    "b"
   ]
  },
  {
   "cell_type": "code",
   "execution_count": 176,
   "metadata": {},
   "outputs": [],
   "source": [
    "A_train = A[:220]\n",
    "b_train = b[:220]\n",
    "A_test = A[220:] ## ten days in november 2020\n",
    "b_test = b[220:]"
   ]
  },
  {
   "cell_type": "code",
   "execution_count": 177,
   "metadata": {},
   "outputs": [],
   "source": [
    " x = (np.linalg.inv((A_train.transpose()@A_train)))@A_train.transpose()@b_train\n",
    "    ##minimization (by def), using train only"
   ]
  },
  {
   "cell_type": "code",
   "execution_count": 178,
   "metadata": {},
   "outputs": [
    {
     "data": {
      "text/plain": [
       "array([[ 0.49642824],\n",
       "       [ 0.97945742],\n",
       "       [-0.05684513]])"
      ]
     },
     "execution_count": 178,
     "metadata": {},
     "output_type": "execute_result"
    }
   ],
   "source": [
    "x "
   ]
  },
  {
   "cell_type": "code",
   "execution_count": 179,
   "metadata": {},
   "outputs": [],
   "source": [
    "predictions = A_test@x\n"
   ]
  },
  {
   "cell_type": "code",
   "execution_count": null,
   "metadata": {},
   "outputs": [],
   "source": []
  },
  {
   "cell_type": "code",
   "execution_count": null,
   "metadata": {},
   "outputs": [],
   "source": []
  },
  {
   "cell_type": "code",
   "execution_count": null,
   "metadata": {},
   "outputs": [],
   "source": []
  },
  {
   "cell_type": "code",
   "execution_count": 180,
   "metadata": {
    "scrolled": true
   },
   "outputs": [
    {
     "data": {
      "text/plain": [
       "69432.63043962554"
      ]
     },
     "execution_count": 180,
     "metadata": {},
     "output_type": "execute_result"
    }
   ],
   "source": [
    " r=predictions - b_test\n",
    "\n",
    "np.linalg.norm(r)"
   ]
  },
  {
   "cell_type": "code",
   "execution_count": 181,
   "metadata": {},
   "outputs": [
    {
     "data": {
      "text/plain": [
       "<AxesSubplot:ylabel='Count'>"
      ]
     },
     "execution_count": 181,
     "metadata": {},
     "output_type": "execute_result"
    },
    {
     "data": {
      "image/png": "[encoded data removed]",
      "text/plain": [
       "<Figure size 432x288 with 1 Axes>"
      ]
     },
     "metadata": {
      "needs_background": "light"
     },
     "output_type": "display_data"
    }
   ],
   "source": [
    "sns.histplot(r)"
   ]
  },
  {
   "cell_type": "code",
   "execution_count": 182,
   "metadata": {},
   "outputs": [],
   "source": [
    "def Atest(index):\n",
    "    return predictions[index]\n",
    "def Btest(index):\n",
    "    return b_test[index]\n",
    "\n",
    "days = range(0,20)"
   ]
  },
  {
   "cell_type": "code",
   "execution_count": 183,
   "metadata": {},
   "outputs": [
    {
     "data": {
      "text/plain": [
       "<matplotlib.legend.Legend at 0x7fe6cbbd1bb0>"
      ]
     },
     "execution_count": 183,
     "metadata": {},
     "output_type": "execute_result"
    },
    {
     "data": {
      "image/png": "[encoded data removed]",
      "text/plain": [
       "<Figure size 432x288 with 1 Axes>"
      ]
     },
     "metadata": {
      "needs_background": "light"
     },
     "output_type": "display_data"
    }
   ],
   "source": [
    "plt.figure()\n",
    "plt.plot(days,Btest(days))\n",
    "plt.plot(days,Atest(days))\n",
    "plt.xlabel('days of test')\n",
    "plt.ylabel('new cases')\n",
    "plt.title('comparing predictions with test data')\n",
    "plt.legend(['france_test','predictions'])\n"
   ]
  },
  {
   "cell_type": "code",
   "execution_count": 233,
   "metadata": {},
   "outputs": [],
   "source": [
    "W= np.eye(220)\n",
    "for i in range (0,20):\n",
    "    W[i][i] = 0.3\n",
    "for i in range (20,30):\n",
    "    W[i][i] = 0.3\n",
    "for i in range (30,40):\n",
    "    W[i][i] = 0.3\n",
    "\n",
    "\n"
   ]
  },
  {
   "cell_type": "code",
   "execution_count": 234,
   "metadata": {},
   "outputs": [],
   "source": [
    "x_weight = np.linalg.inv(A_train.transpose()@W@A_train)@A_train.transpose()@W@b_train"
   ]
  },
  {
   "cell_type": "code",
   "execution_count": 235,
   "metadata": {},
   "outputs": [],
   "source": [
    "predictions2 = A_test@x_weight"
   ]
  },
  {
   "cell_type": "code",
   "execution_count": 236,
   "metadata": {},
   "outputs": [],
   "source": [
    "def A2test(index):\n",
    "    return predictions2[index]"
   ]
  },
  {
   "cell_type": "code",
   "execution_count": 237,
   "metadata": {},
   "outputs": [
    {
     "data": {
      "text/plain": [
       "<matplotlib.legend.Legend at 0x7fe6ccd22a90>"
      ]
     },
     "execution_count": 237,
     "metadata": {},
     "output_type": "execute_result"
    },
    {
     "data": {
      "image/png": "[encoded data removed]",
      "text/plain": [
       "<Figure size 432x288 with 1 Axes>"
      ]
     },
     "metadata": {
      "needs_background": "light"
     },
     "output_type": "display_data"
    }
   ],
   "source": [
    "plt.figure()\n",
    "plt.plot(days,Btest(days))\n",
    "plt.plot(days,A2test(days))\n",
    "plt.xlabel('days of test')\n",
    "plt.ylabel('new cases')\n",
    "plt.title('comparing predictions with test data')\n",
    "plt.legend(['france_test','predictions'])"
   ]
  },
  {
   "cell_type": "code",
   "execution_count": 238,
   "metadata": {},
   "outputs": [
    {
     "data": {
      "text/plain": [
       "48869.76274629512"
      ]
     },
     "execution_count": 238,
     "metadata": {},
     "output_type": "execute_result"
    }
   ],
   "source": [
    " r2=predictions2 - b_test\n",
    "\n",
    "np.linalg.norm(r2)"
   ]
  },
  {
   "cell_type": "code",
   "execution_count": 239,
   "metadata": {},
   "outputs": [
    {
     "data": {
      "text/plain": [
       "<AxesSubplot:ylabel='Count'>"
      ]
     },
     "execution_count": 239,
     "metadata": {},
     "output_type": "execute_result"
    },
    {
     "data": {
      "image/png": "[encoded data removed]",
      "text/plain": [
       "<Figure size 432x288 with 1 Axes>"
      ]
     },
     "metadata": {
      "needs_background": "light"
     },
     "output_type": "display_data"
    }
   ],
   "source": [
    "sns.histplot(r2)"
   ]
  },
  {
   "cell_type": "code",
   "execution_count": null,
   "metadata": {},
   "outputs": [],
   "source": []
  },
  {
   "cell_type": "code",
   "execution_count": null,
   "metadata": {},
   "outputs": [],
   "source": []
  },
  {
   "cell_type": "code",
   "execution_count": null,
   "metadata": {},
   "outputs": [],
   "source": []
  },
  {
   "cell_type": "code",
   "execution_count": null,
   "metadata": {},
   "outputs": [],
   "source": []
  }
 ],
 "metadata": {
  "kernelspec": {
   "display_name": "Python 3",
   "language": "python",
   "name": "python3"
  },
  "language_info": {
   "codemirror_mode": {
    "name": "ipython",
    "version": 3
   },
   "file_extension": ".py",
   "mimetype": "text/x-python",
   "name": "python",
   "nbconvert_exporter": "python",
   "pygments_lexer": "ipython3",
   "version": "3.8.5"
  }
 },
 "nbformat": 4,
 "nbformat_minor": 4
}
