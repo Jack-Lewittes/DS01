{
 "cells": [
  {
   "cell_type": "code",
   "execution_count": 1,
   "metadata": {},
   "outputs": [],
   "source": [
    "import numpy as np\n",
    "import pandas as pd\n",
    "import matplotlib.pyplot as plt\n",
    "import seaborn as sns\n",
    "%matplotlib inline"
   ]
  },
  {
   "cell_type": "code",
   "execution_count": 2,
   "metadata": {},
   "outputs": [],
   "source": [
    "df = pd.read_csv('data.csv')"
   ]
  },
  {
   "cell_type": "code",
   "execution_count": 3,
   "metadata": {},
   "outputs": [],
   "source": [
    "df = df[(df['iso_code']=='FRA') | (df['iso_code']=='GBR') | (df['iso_code']=='ITA')|\n",
    "        (df['iso_code']=='CHE') | (df['iso_code']=='DEU') | (df['iso_code']=='PRT') | (df['iso_code']=='BEL')]"
   ]
  },
  {
   "cell_type": "code",
   "execution_count": 4,
   "metadata": {},
   "outputs": [],
   "source": [
    "df = df[(df['date'] >= '2020-03-15') & (df['date'] <= '2020-11-09')]"
   ]
  },
  {
   "cell_type": "code",
   "execution_count": 5,
   "metadata": {},
   "outputs": [
    {
     "data": {
      "text/html": [
       "<div>\n",
       "<style scoped>\n",
       "    .dataframe tbody tr th:only-of-type {\n",
       "        vertical-align: middle;\n",
       "    }\n",
       "\n",
       "    .dataframe tbody tr th {\n",
       "        vertical-align: top;\n",
       "    }\n",
       "\n",
       "    .dataframe thead th {\n",
       "        text-align: right;\n",
       "    }\n",
       "</style>\n",
       "<table border=\"1\" class=\"dataframe\">\n",
       "  <thead>\n",
       "    <tr style=\"text-align: right;\">\n",
       "      <th></th>\n",
       "      <th>iso_code</th>\n",
       "      <th>continent</th>\n",
       "      <th>location</th>\n",
       "      <th>date</th>\n",
       "      <th>total_cases</th>\n",
       "      <th>new_cases</th>\n",
       "      <th>new_cases_smoothed</th>\n",
       "      <th>total_deaths</th>\n",
       "      <th>new_deaths</th>\n",
       "      <th>new_deaths_smoothed</th>\n",
       "      <th>...</th>\n",
       "      <th>gdp_per_capita</th>\n",
       "      <th>extreme_poverty</th>\n",
       "      <th>cardiovasc_death_rate</th>\n",
       "      <th>diabetes_prevalence</th>\n",
       "      <th>female_smokers</th>\n",
       "      <th>male_smokers</th>\n",
       "      <th>handwashing_facilities</th>\n",
       "      <th>hospital_beds_per_thousand</th>\n",
       "      <th>life_expectancy</th>\n",
       "      <th>human_development_index</th>\n",
       "    </tr>\n",
       "  </thead>\n",
       "  <tbody>\n",
       "    <tr>\n",
       "      <th>4997</th>\n",
       "      <td>BEL</td>\n",
       "      <td>Europe</td>\n",
       "      <td>Belgium</td>\n",
       "      <td>2020-03-15</td>\n",
       "      <td>1541.0</td>\n",
       "      <td>179.0</td>\n",
       "      <td>171.143</td>\n",
       "      <td>13.0</td>\n",
       "      <td>5.0</td>\n",
       "      <td>1.857</td>\n",
       "      <td>...</td>\n",
       "      <td>42658.576</td>\n",
       "      <td>0.2</td>\n",
       "      <td>114.898</td>\n",
       "      <td>4.29</td>\n",
       "      <td>25.1</td>\n",
       "      <td>31.4</td>\n",
       "      <td>NaN</td>\n",
       "      <td>5.64</td>\n",
       "      <td>81.63</td>\n",
       "      <td>0.916</td>\n",
       "    </tr>\n",
       "    <tr>\n",
       "      <th>4998</th>\n",
       "      <td>BEL</td>\n",
       "      <td>Europe</td>\n",
       "      <td>Belgium</td>\n",
       "      <td>2020-03-16</td>\n",
       "      <td>1755.0</td>\n",
       "      <td>214.0</td>\n",
       "      <td>192.571</td>\n",
       "      <td>19.0</td>\n",
       "      <td>6.0</td>\n",
       "      <td>2.714</td>\n",
       "      <td>...</td>\n",
       "      <td>42658.576</td>\n",
       "      <td>0.2</td>\n",
       "      <td>114.898</td>\n",
       "      <td>4.29</td>\n",
       "      <td>25.1</td>\n",
       "      <td>31.4</td>\n",
       "      <td>NaN</td>\n",
       "      <td>5.64</td>\n",
       "      <td>81.63</td>\n",
       "      <td>0.916</td>\n",
       "    </tr>\n",
       "    <tr>\n",
       "      <th>4999</th>\n",
       "      <td>BEL</td>\n",
       "      <td>Europe</td>\n",
       "      <td>Belgium</td>\n",
       "      <td>2020-03-17</td>\n",
       "      <td>2142.0</td>\n",
       "      <td>387.0</td>\n",
       "      <td>234.429</td>\n",
       "      <td>30.0</td>\n",
       "      <td>11.0</td>\n",
       "      <td>4.143</td>\n",
       "      <td>...</td>\n",
       "      <td>42658.576</td>\n",
       "      <td>0.2</td>\n",
       "      <td>114.898</td>\n",
       "      <td>4.29</td>\n",
       "      <td>25.1</td>\n",
       "      <td>31.4</td>\n",
       "      <td>NaN</td>\n",
       "      <td>5.64</td>\n",
       "      <td>81.63</td>\n",
       "      <td>0.916</td>\n",
       "    </tr>\n",
       "    <tr>\n",
       "      <th>5000</th>\n",
       "      <td>BEL</td>\n",
       "      <td>Europe</td>\n",
       "      <td>Belgium</td>\n",
       "      <td>2020-03-18</td>\n",
       "      <td>2564.0</td>\n",
       "      <td>422.0</td>\n",
       "      <td>280.571</td>\n",
       "      <td>40.0</td>\n",
       "      <td>10.0</td>\n",
       "      <td>5.571</td>\n",
       "      <td>...</td>\n",
       "      <td>42658.576</td>\n",
       "      <td>0.2</td>\n",
       "      <td>114.898</td>\n",
       "      <td>4.29</td>\n",
       "      <td>25.1</td>\n",
       "      <td>31.4</td>\n",
       "      <td>NaN</td>\n",
       "      <td>5.64</td>\n",
       "      <td>81.63</td>\n",
       "      <td>0.916</td>\n",
       "    </tr>\n",
       "    <tr>\n",
       "      <th>5001</th>\n",
       "      <td>BEL</td>\n",
       "      <td>Europe</td>\n",
       "      <td>Belgium</td>\n",
       "      <td>2020-03-19</td>\n",
       "      <td>3098.0</td>\n",
       "      <td>534.0</td>\n",
       "      <td>332.000</td>\n",
       "      <td>62.0</td>\n",
       "      <td>22.0</td>\n",
       "      <td>8.286</td>\n",
       "      <td>...</td>\n",
       "      <td>42658.576</td>\n",
       "      <td>0.2</td>\n",
       "      <td>114.898</td>\n",
       "      <td>4.29</td>\n",
       "      <td>25.1</td>\n",
       "      <td>31.4</td>\n",
       "      <td>NaN</td>\n",
       "      <td>5.64</td>\n",
       "      <td>81.63</td>\n",
       "      <td>0.916</td>\n",
       "    </tr>\n",
       "  </tbody>\n",
       "</table>\n",
       "<p>5 rows × 49 columns</p>\n",
       "</div>"
      ],
      "text/plain": [
       "     iso_code continent location        date  total_cases  new_cases  \\\n",
       "4997      BEL    Europe  Belgium  2020-03-15       1541.0      179.0   \n",
       "4998      BEL    Europe  Belgium  2020-03-16       1755.0      214.0   \n",
       "4999      BEL    Europe  Belgium  2020-03-17       2142.0      387.0   \n",
       "5000      BEL    Europe  Belgium  2020-03-18       2564.0      422.0   \n",
       "5001      BEL    Europe  Belgium  2020-03-19       3098.0      534.0   \n",
       "\n",
       "      new_cases_smoothed  total_deaths  new_deaths  new_deaths_smoothed  ...  \\\n",
       "4997             171.143          13.0         5.0                1.857  ...   \n",
       "4998             192.571          19.0         6.0                2.714  ...   \n",
       "4999             234.429          30.0        11.0                4.143  ...   \n",
       "5000             280.571          40.0        10.0                5.571  ...   \n",
       "5001             332.000          62.0        22.0                8.286  ...   \n",
       "\n",
       "      gdp_per_capita  extreme_poverty  cardiovasc_death_rate  \\\n",
       "4997       42658.576              0.2                114.898   \n",
       "4998       42658.576              0.2                114.898   \n",
       "4999       42658.576              0.2                114.898   \n",
       "5000       42658.576              0.2                114.898   \n",
       "5001       42658.576              0.2                114.898   \n",
       "\n",
       "      diabetes_prevalence  female_smokers  male_smokers  \\\n",
       "4997                 4.29            25.1          31.4   \n",
       "4998                 4.29            25.1          31.4   \n",
       "4999                 4.29            25.1          31.4   \n",
       "5000                 4.29            25.1          31.4   \n",
       "5001                 4.29            25.1          31.4   \n",
       "\n",
       "      handwashing_facilities  hospital_beds_per_thousand  life_expectancy  \\\n",
       "4997                     NaN                        5.64            81.63   \n",
       "4998                     NaN                        5.64            81.63   \n",
       "4999                     NaN                        5.64            81.63   \n",
       "5000                     NaN                        5.64            81.63   \n",
       "5001                     NaN                        5.64            81.63   \n",
       "\n",
       "      human_development_index  \n",
       "4997                    0.916  \n",
       "4998                    0.916  \n",
       "4999                    0.916  \n",
       "5000                    0.916  \n",
       "5001                    0.916  \n",
       "\n",
       "[5 rows x 49 columns]"
      ]
     },
     "execution_count": 5,
     "metadata": {},
     "output_type": "execute_result"
    }
   ],
   "source": [
    "df.head()"
   ]
  },
  {
   "cell_type": "code",
   "execution_count": 6,
   "metadata": {},
   "outputs": [],
   "source": [
    "dfSub = df[['location', 'date','new_cases','population', 'population_density']]"
   ]
  },
  {
   "cell_type": "code",
   "execution_count": 7,
   "metadata": {},
   "outputs": [],
   "source": [
    "A = dfSub[dfSub['location']!='France']"
   ]
  },
  {
   "cell_type": "code",
   "execution_count": 8,
   "metadata": {},
   "outputs": [],
   "source": [
    "A = A[['location','new_cases','population']]"
   ]
  },
  {
   "cell_type": "code",
   "execution_count": 9,
   "metadata": {},
   "outputs": [],
   "source": [
    "germ = A[A['location']=='Germany'].reset_index().drop('index',axis=1)\n",
    "ita = A[A['location']=='Italy'].reset_index().drop('index',axis=1)\n",
    "port = A[A['location']=='Portugal'].reset_index().drop('index',axis=1)\n",
    "swi = A[A['location']=='Switzerland'].reset_index().drop('index',axis=1)\n",
    "unk = A[A['location']=='United Kingdom'].reset_index().drop('index',axis=1)\n",
    "bel  = A[A['location']=='Belgium'].reset_index().drop('index',axis=1)"
   ]
  },
  {
   "cell_type": "code",
   "execution_count": 10,
   "metadata": {},
   "outputs": [
    {
     "data": {
      "text/html": [
       "<div>\n",
       "<style scoped>\n",
       "    .dataframe tbody tr th:only-of-type {\n",
       "        vertical-align: middle;\n",
       "    }\n",
       "\n",
       "    .dataframe tbody tr th {\n",
       "        vertical-align: top;\n",
       "    }\n",
       "\n",
       "    .dataframe thead th {\n",
       "        text-align: right;\n",
       "    }\n",
       "</style>\n",
       "<table border=\"1\" class=\"dataframe\">\n",
       "  <thead>\n",
       "    <tr style=\"text-align: right;\">\n",
       "      <th></th>\n",
       "      <th>Italy</th>\n",
       "      <th>United Kingdom</th>\n",
       "      <th>Belgium</th>\n",
       "    </tr>\n",
       "  </thead>\n",
       "  <tbody>\n",
       "    <tr>\n",
       "      <th>0</th>\n",
       "      <td>3497.0</td>\n",
       "      <td>478.0</td>\n",
       "      <td>179.0</td>\n",
       "    </tr>\n",
       "    <tr>\n",
       "      <th>1</th>\n",
       "      <td>2823.0</td>\n",
       "      <td>361.0</td>\n",
       "      <td>214.0</td>\n",
       "    </tr>\n",
       "    <tr>\n",
       "      <th>2</th>\n",
       "      <td>4000.0</td>\n",
       "      <td>442.0</td>\n",
       "      <td>387.0</td>\n",
       "    </tr>\n",
       "    <tr>\n",
       "      <th>3</th>\n",
       "      <td>3526.0</td>\n",
       "      <td>611.0</td>\n",
       "      <td>422.0</td>\n",
       "    </tr>\n",
       "    <tr>\n",
       "      <th>4</th>\n",
       "      <td>4207.0</td>\n",
       "      <td>769.0</td>\n",
       "      <td>534.0</td>\n",
       "    </tr>\n",
       "    <tr>\n",
       "      <th>...</th>\n",
       "      <td>...</td>\n",
       "      <td>...</td>\n",
       "      <td>...</td>\n",
       "    </tr>\n",
       "    <tr>\n",
       "      <th>235</th>\n",
       "      <td>30548.0</td>\n",
       "      <td>25177.0</td>\n",
       "      <td>9057.0</td>\n",
       "    </tr>\n",
       "    <tr>\n",
       "      <th>236</th>\n",
       "      <td>34502.0</td>\n",
       "      <td>24138.0</td>\n",
       "      <td>7411.0</td>\n",
       "    </tr>\n",
       "    <tr>\n",
       "      <th>237</th>\n",
       "      <td>37802.0</td>\n",
       "      <td>23287.0</td>\n",
       "      <td>6047.0</td>\n",
       "    </tr>\n",
       "    <tr>\n",
       "      <th>238</th>\n",
       "      <td>39809.0</td>\n",
       "      <td>24957.0</td>\n",
       "      <td>NaN</td>\n",
       "    </tr>\n",
       "    <tr>\n",
       "      <th>239</th>\n",
       "      <td>32614.0</td>\n",
       "      <td>20572.0</td>\n",
       "      <td>NaN</td>\n",
       "    </tr>\n",
       "  </tbody>\n",
       "</table>\n",
       "<p>240 rows × 3 columns</p>\n",
       "</div>"
      ],
      "text/plain": [
       "       Italy  United Kingdom  Belgium\n",
       "0     3497.0           478.0    179.0\n",
       "1     2823.0           361.0    214.0\n",
       "2     4000.0           442.0    387.0\n",
       "3     3526.0           611.0    422.0\n",
       "4     4207.0           769.0    534.0\n",
       "..       ...             ...      ...\n",
       "235  30548.0         25177.0   9057.0\n",
       "236  34502.0         24138.0   7411.0\n",
       "237  37802.0         23287.0   6047.0\n",
       "238  39809.0         24957.0      NaN\n",
       "239  32614.0         20572.0      NaN\n",
       "\n",
       "[240 rows x 3 columns]"
      ]
     },
     "execution_count": 10,
     "metadata": {},
     "output_type": "execute_result"
    }
   ],
   "source": [
    "N = pd.DataFrame(columns=['Italy'],index = range(0,240))\n",
    "N['United Kingdom'] = unk['new_cases']\n",
    "N['Italy']= ita['new_cases']\n",
    "#N['Portugal'] = port['new_cases']\n",
    "#N['Switzerland'] = swi['new_cases']\n",
    "#N['Germany'] = germ['new_cases']\n",
    "N['Belgium']= bel['new_cases']\n",
    "N"
   ]
  },
  {
   "cell_type": "code",
   "execution_count": 11,
   "metadata": {},
   "outputs": [
    {
     "data": {
      "text/html": [
       "<div>\n",
       "<style scoped>\n",
       "    .dataframe tbody tr th:only-of-type {\n",
       "        vertical-align: middle;\n",
       "    }\n",
       "\n",
       "    .dataframe tbody tr th {\n",
       "        vertical-align: top;\n",
       "    }\n",
       "\n",
       "    .dataframe thead th {\n",
       "        text-align: right;\n",
       "    }\n",
       "</style>\n",
       "<table border=\"1\" class=\"dataframe\">\n",
       "  <thead>\n",
       "    <tr style=\"text-align: right;\">\n",
       "      <th></th>\n",
       "      <th>Italy</th>\n",
       "      <th>United Kingdom</th>\n",
       "      <th>Belgium</th>\n",
       "    </tr>\n",
       "  </thead>\n",
       "  <tbody>\n",
       "    <tr>\n",
       "      <th>0</th>\n",
       "      <td>3497.0</td>\n",
       "      <td>478.0</td>\n",
       "      <td>179.0</td>\n",
       "    </tr>\n",
       "    <tr>\n",
       "      <th>1</th>\n",
       "      <td>2823.0</td>\n",
       "      <td>361.0</td>\n",
       "      <td>214.0</td>\n",
       "    </tr>\n",
       "    <tr>\n",
       "      <th>2</th>\n",
       "      <td>4000.0</td>\n",
       "      <td>442.0</td>\n",
       "      <td>387.0</td>\n",
       "    </tr>\n",
       "    <tr>\n",
       "      <th>3</th>\n",
       "      <td>3526.0</td>\n",
       "      <td>611.0</td>\n",
       "      <td>422.0</td>\n",
       "    </tr>\n",
       "    <tr>\n",
       "      <th>4</th>\n",
       "      <td>4207.0</td>\n",
       "      <td>769.0</td>\n",
       "      <td>534.0</td>\n",
       "    </tr>\n",
       "    <tr>\n",
       "      <th>...</th>\n",
       "      <td>...</td>\n",
       "      <td>...</td>\n",
       "      <td>...</td>\n",
       "    </tr>\n",
       "    <tr>\n",
       "      <th>235</th>\n",
       "      <td>30548.0</td>\n",
       "      <td>25177.0</td>\n",
       "      <td>9057.0</td>\n",
       "    </tr>\n",
       "    <tr>\n",
       "      <th>236</th>\n",
       "      <td>34502.0</td>\n",
       "      <td>24138.0</td>\n",
       "      <td>7411.0</td>\n",
       "    </tr>\n",
       "    <tr>\n",
       "      <th>237</th>\n",
       "      <td>37802.0</td>\n",
       "      <td>23287.0</td>\n",
       "      <td>6047.0</td>\n",
       "    </tr>\n",
       "    <tr>\n",
       "      <th>238</th>\n",
       "      <td>39809.0</td>\n",
       "      <td>24957.0</td>\n",
       "      <td>6047.0</td>\n",
       "    </tr>\n",
       "    <tr>\n",
       "      <th>239</th>\n",
       "      <td>32614.0</td>\n",
       "      <td>20572.0</td>\n",
       "      <td>6047.0</td>\n",
       "    </tr>\n",
       "  </tbody>\n",
       "</table>\n",
       "<p>240 rows × 3 columns</p>\n",
       "</div>"
      ],
      "text/plain": [
       "       Italy  United Kingdom  Belgium\n",
       "0     3497.0           478.0    179.0\n",
       "1     2823.0           361.0    214.0\n",
       "2     4000.0           442.0    387.0\n",
       "3     3526.0           611.0    422.0\n",
       "4     4207.0           769.0    534.0\n",
       "..       ...             ...      ...\n",
       "235  30548.0         25177.0   9057.0\n",
       "236  34502.0         24138.0   7411.0\n",
       "237  37802.0         23287.0   6047.0\n",
       "238  39809.0         24957.0   6047.0\n",
       "239  32614.0         20572.0   6047.0\n",
       "\n",
       "[240 rows x 3 columns]"
      ]
     },
     "execution_count": 11,
     "metadata": {},
     "output_type": "execute_result"
    }
   ],
   "source": [
    "#correcting NaN values:\n",
    "N['Belgium'].iloc[238] = N['Belgium'].iloc[237]\n",
    "N['Belgium'].iloc[239] = N['Belgium'].iloc[237]\n",
    "N\n"
   ]
  },
  {
   "cell_type": "code",
   "execution_count": 12,
   "metadata": {},
   "outputs": [],
   "source": [
    "A = N.to_numpy()\n"
   ]
  },
  {
   "cell_type": "code",
   "execution_count": 13,
   "metadata": {},
   "outputs": [],
   "source": [
    "b = dfSub[dfSub['location']=='France']"
   ]
  },
  {
   "cell_type": "code",
   "execution_count": 14,
   "metadata": {},
   "outputs": [],
   "source": [
    "b = b[['new_cases']]"
   ]
  },
  {
   "cell_type": "code",
   "execution_count": 15,
   "metadata": {},
   "outputs": [],
   "source": [
    "b=b.to_numpy() \n",
    "for i in range(0,240): ## correct corrupted data.  \n",
    "    if b[i] == 0:\n",
    "        b[i]= b[i-1]\n",
    "    elif b[i]<0:\n",
    "        b[i]= -b[i]\n"
   ]
  },
  {
   "cell_type": "code",
   "execution_count": 16,
   "metadata": {},
   "outputs": [],
   "source": [
    "A_train = A[:220]\n",
    "b_train = b[:220]\n",
    "A_test = A[220:] \n",
    "b_test = b[220:]"
   ]
  },
  {
   "cell_type": "code",
   "execution_count": 17,
   "metadata": {},
   "outputs": [],
   "source": [
    " x = (np.linalg.inv((A_train.transpose()@A_train)))@A_train.transpose()@b_train\n",
    "    ##minimization (by def), using train only"
   ]
  },
  {
   "cell_type": "code",
   "execution_count": 18,
   "metadata": {},
   "outputs": [
    {
     "data": {
      "text/plain": [
       "array([[0.41421485],\n",
       "       [0.86787094],\n",
       "       [0.3041958 ]])"
      ]
     },
     "execution_count": 18,
     "metadata": {},
     "output_type": "execute_result"
    }
   ],
   "source": [
    "x "
   ]
  },
  {
   "cell_type": "code",
   "execution_count": 19,
   "metadata": {},
   "outputs": [],
   "source": [
    "predictions = A_test@x\n"
   ]
  },
  {
   "cell_type": "code",
   "execution_count": 20,
   "metadata": {
    "scrolled": true
   },
   "outputs": [
    {
     "data": {
      "text/plain": [
       "73500.42783145294"
      ]
     },
     "execution_count": 20,
     "metadata": {},
     "output_type": "execute_result"
    }
   ],
   "source": [
    " r=predictions - b_test\n",
    "\n",
    "np.linalg.norm(r)"
   ]
  },
  {
   "cell_type": "code",
   "execution_count": 21,
   "metadata": {},
   "outputs": [
    {
     "data": {
      "text/plain": [
       "[Text(0.5, 0, 'new cases'), Text(0.5, 1.0, 'error distribution')]"
      ]
     },
     "execution_count": 21,
     "metadata": {},
     "output_type": "execute_result"
    },
    {
     "data": {
      "image/png": "[encoded data removed]",
      "text/plain": [
       "<Figure size 432x288 with 1 Axes>"
      ]
     },
     "metadata": {
      "needs_background": "light"
     },
     "output_type": "display_data"
    }
   ],
   "source": [
    "sns.histplot(r).set(xlabel='new cases', title = 'error distribution')"
   ]
  },
  {
   "cell_type": "code",
   "execution_count": 22,
   "metadata": {},
   "outputs": [],
   "source": [
    "def Atest(index):\n",
    "    return predictions[index]\n",
    "def Btest(index):\n",
    "    return b_test[index]\n",
    "\n",
    "days = range(0,20)"
   ]
  },
  {
   "cell_type": "code",
   "execution_count": 23,
   "metadata": {},
   "outputs": [
    {
     "data": {
      "text/plain": [
       "<matplotlib.legend.Legend at 0x7ff12f463580>"
      ]
     },
     "execution_count": 23,
     "metadata": {},
     "output_type": "execute_result"
    },
    {
     "data": {
      "image/png": "[encoded data removed]",
      "text/plain": [
       "<Figure size 432x288 with 1 Axes>"
      ]
     },
     "metadata": {
      "needs_background": "light"
     },
     "output_type": "display_data"
    }
   ],
   "source": [
    "plt.figure()\n",
    "plt.plot(days,Btest(days))\n",
    "plt.plot(days,Atest(days))\n",
    "plt.xlabel('days of test')\n",
    "plt.ylabel('new cases')\n",
    "plt.title('comparing predictions with test data')\n",
    "plt.legend(['france_test','predictions'])\n"
   ]
  },
  {
   "cell_type": "code",
   "execution_count": 24,
   "metadata": {},
   "outputs": [],
   "source": [
    "W= np.eye(220)\n",
    "for i in range (0,40):\n",
    "    W[i][i] = 0.3\n",
    "\n",
    "\n"
   ]
  },
  {
   "cell_type": "code",
   "execution_count": 25,
   "metadata": {},
   "outputs": [],
   "source": [
    "x_weight = np.linalg.inv(A_train.transpose()@W@A_train)@A_train.transpose()@W@b_train"
   ]
  },
  {
   "cell_type": "code",
   "execution_count": 26,
   "metadata": {},
   "outputs": [],
   "source": [
    "predictions2 = A_test@x_weight"
   ]
  },
  {
   "cell_type": "code",
   "execution_count": 27,
   "metadata": {},
   "outputs": [],
   "source": [
    "def A2test(index):\n",
    "    return predictions2[index]"
   ]
  },
  {
   "cell_type": "code",
   "execution_count": 28,
   "metadata": {},
   "outputs": [
    {
     "data": {
      "text/plain": [
       "<matplotlib.legend.Legend at 0x7ff12f4979d0>"
      ]
     },
     "execution_count": 28,
     "metadata": {},
     "output_type": "execute_result"
    },
    {
     "data": {
      "image/png": "[encoded data removed]",
      "text/plain": [
       "<Figure size 432x288 with 1 Axes>"
      ]
     },
     "metadata": {
      "needs_background": "light"
     },
     "output_type": "display_data"
    }
   ],
   "source": [
    "plt.figure()\n",
    "plt.plot(days,Btest(days))\n",
    "plt.plot(days,A2test(days))\n",
    "plt.xlabel('days of test')\n",
    "plt.ylabel('new cases')\n",
    "plt.title('comparing predictions with test data')\n",
    "plt.legend(['france_test','predictions'])"
   ]
  },
  {
   "cell_type": "code",
   "execution_count": 29,
   "metadata": {},
   "outputs": [
    {
     "data": {
      "text/plain": [
       "47970.25356215737"
      ]
     },
     "execution_count": 29,
     "metadata": {},
     "output_type": "execute_result"
    }
   ],
   "source": [
    " r2=predictions2 - b_test\n",
    "\n",
    "np.linalg.norm(r2)"
   ]
  },
  {
   "cell_type": "code",
   "execution_count": 30,
   "metadata": {},
   "outputs": [
    {
     "data": {
      "text/plain": [
       "[Text(0.5, 0, 'new cases'), Text(0.5, 1.0, 'error distribution')]"
      ]
     },
     "execution_count": 30,
     "metadata": {},
     "output_type": "execute_result"
    },
    {
     "data": {
      "image/png": "[encoded data removed]",
      "text/plain": [
       "<Figure size 432x288 with 1 Axes>"
      ]
     },
     "metadata": {
      "needs_background": "light"
     },
     "output_type": "display_data"
    }
   ],
   "source": [
    "sns.histplot(r2).set(xlabel='new cases', title = 'error distribution')"
   ]
  },
  {
   "cell_type": "code",
   "execution_count": null,
   "metadata": {},
   "outputs": [],
   "source": []
  },
  {
   "cell_type": "code",
   "execution_count": null,
   "metadata": {},
   "outputs": [],
   "source": []
  },
  {
   "cell_type": "code",
   "execution_count": null,
   "metadata": {},
   "outputs": [],
   "source": []
  },
  {
   "cell_type": "code",
   "execution_count": null,
   "metadata": {},
   "outputs": [],
   "source": []
  }
 ],
 "metadata": {
  "kernelspec": {
   "display_name": "Python 3",
   "language": "python",
   "name": "python3"
  },
  "language_info": {
   "codemirror_mode": {
    "name": "ipython",
    "version": 3
   },
   "file_extension": ".py",
   "mimetype": "text/x-python",
   "name": "python",
   "nbconvert_exporter": "python",
   "pygments_lexer": "ipython3",
   "version": "3.8.5"
  }
 },
 "nbformat": 4,
 "nbformat_minor": 4
}
